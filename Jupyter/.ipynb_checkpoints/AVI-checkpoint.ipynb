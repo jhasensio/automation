{
 "cells": [
  {
   "cell_type": "markdown",
   "id": "62a52726-985f-4cf1-bad4-dd9aa3e32d89",
   "metadata": {},
   "source": [
    "# AVI Demo Walkthrough\n",
    "\n",
    "https://github.com/vmware/alb-sdk/blob/22.1.3/python/avi/sdk\n",
    "\n",
    "<img src=\"files/imagen1.png\" style=\"width:1600px\">"
   ]
  },
  {
   "cell_type": "markdown",
   "id": "b1d7e1a1-69a2-4f18-92b4-fb14d2a56fac",
   "metadata": {},
   "source": [
    "### Import Libraries"
   ]
  },
  {
   "cell_type": "code",
   "execution_count": 1,
   "id": "9fe61adb-7369-488e-86fb-be421da06295",
   "metadata": {},
   "outputs": [],
   "source": [
    "# Import libraries (pip install avisdk first to install AVI SDK)\n",
    "from avi.sdk.avi_api import ApiSession\n",
    "import datetime, time\n",
    "from requests.packages import urllib3\n",
    "urllib3.disable_warnings()\n",
    "import json\n",
    "import sys"
   ]
  },
  {
   "cell_type": "code",
   "execution_count": 2,
   "id": "7b3cd415-30ad-479c-9ab5-57068720ae19",
   "metadata": {},
   "outputs": [],
   "source": [
    "import pandas as pd\n",
    "import matplotlib.pyplot as plt"
   ]
  },
  {
   "cell_type": "markdown",
   "id": "500452d3-0ec2-4af5-8788-e281af3e57c4",
   "metadata": {},
   "source": [
    "### Import Environment Variables"
   ]
  },
  {
   "cell_type": "code",
   "execution_count": 3,
   "id": "c8ddd831-7372-48ca-84db-49bbdea4844b",
   "metadata": {},
   "outputs": [],
   "source": [
    "from envs.demo_env import demo_env_params as demo_env"
   ]
  },
  {
   "cell_type": "markdown",
   "id": "400c5f4b-b396-4d63-aa4b-51c076c2e0b1",
   "metadata": {},
   "source": [
    " ### Establish Session with Controller "
   ]
  },
  {
   "cell_type": "code",
   "execution_count": 4,
   "id": "0beedad0-b805-4a77-85d4-66b4a713e1f2",
   "metadata": {},
   "outputs": [],
   "source": [
    "# Establish a first session\n",
    "api = ApiSession(\n",
    "    controller_ip=demo_env['controller_ip'],\n",
    "    username=demo_env['controller_username'],\n",
    "    password=demo_env['controller_password'],\n",
    "    tenant=demo_env['tenant'],\n",
    "    api_version=demo_env['api_version']\n",
    "    )\n",
    "# Update headers and api version imported from demo env file with controller version (ensure actual API Version is uses in subsequent requests\n",
    "demo_env['headers']['X-Avi-Version'] = api.remote_api_version['Version']\n",
    "demo_env['api_version'] = api.remote_api_version['Version']\n",
    "\n",
    "# Create a new session with received AVI API Version\n",
    "api = ApiSession(\n",
    "    controller_ip=demo_env['controller_ip'],\n",
    "    username=demo_env['controller_username'],\n",
    "    password=demo_env['controller_password'],\n",
    "    tenant=demo_env['tenant'],\n",
    "    api_version=demo_env['api_version']\n",
    "    )"
   ]
  },
  {
   "cell_type": "markdown",
   "id": "51bd4a3e-af6d-4976-846a-f2a5da65fd34",
   "metadata": {},
   "source": [
    "### Verify controller connectivity by showing session ID "
   ]
  },
  {
   "cell_type": "code",
   "execution_count": 5,
   "id": "23261866-ce52-4ecc-abda-2d25cdfcb1fe",
   "metadata": {},
   "outputs": [
    {
     "name": "stdout",
     "output_type": "stream",
     "text": [
      "Successful connection to avicontroller. Session ID:pjmduiw2yo93upnriee6euy221fnm7bj\n"
     ]
    }
   ],
   "source": [
    "print('Successful connection to ' + demo_env['name'] + '. Session ID:' + api.session_id)"
   ]
  },
  {
   "cell_type": "markdown",
   "id": "47c1b9dc-30ea-4f13-a818-eaab3233216a",
   "metadata": {},
   "source": [
    "### Get Cloud and SE_Group References"
   ]
  },
  {
   "cell_type": "code",
   "execution_count": 6,
   "id": "16ce2c28-010b-4afe-8929-a55581d60018",
   "metadata": {},
   "outputs": [
    {
     "name": "stdout",
     "output_type": "stream",
     "text": [
      "The cloud reference is https://172.25.11.6/api/cloud/cloud-ec9cf668-9f95-43e3-ac2c-243e0617eeaf\n"
     ]
    }
   ],
   "source": [
    "# Get cloud uuid (cloud = connector with any infra environment such as vcenter, nsx-t, aws, gcp... etc)\n",
    "cloud = api.get_object_by_name('cloud', demo_env['cloud'])\n",
    "cloud_ref = api.get_obj_ref(cloud)\n",
    "print('The cloud reference is ' + cloud_ref)"
   ]
  },
  {
   "cell_type": "code",
   "execution_count": 7,
   "id": "029b6d6a-ec0f-4ba7-a09c-7e684e11bdd8",
   "metadata": {},
   "outputs": [
    {
     "name": "stdout",
     "output_type": "stream",
     "text": [
      "The se_group reference is https://172.25.11.6/api/serviceenginegroup/serviceenginegroup-8b907faf-bf91-43f5-b0aa-97f3f41be154\n"
     ]
    }
   ],
   "source": [
    "# Get se_group_ref  (Service Engine Group defines a common set of policies (size, HA scheme, etc) for a given set of Service Engines\n",
    "se_group = api.get_object_by_name('serviceenginegroup', demo_env['service_engine_group'])\n",
    "se_group_ref = api.get_obj_ref(se_group)\n",
    "print('The se_group reference is ' +se_group_ref)"
   ]
  },
  {
   "cell_type": "markdown",
   "id": "99b5b2fd-8297-4758-8607-ff97b4f5a197",
   "metadata": {},
   "source": [
    "## Define Virtual_Service Configuration Parameters"
   ]
  },
  {
   "cell_type": "code",
   "execution_count": 8,
   "id": "fb95ef33-61fc-4e12-b818-3be8f6f8e81d",
   "metadata": {},
   "outputs": [],
   "source": [
    "vs = {\n",
    "    'vsvip_ip': \"10.151.80.88\",\n",
    "    'name': \"API\",\n",
    "    'port': \"6443\",\n",
    "    'tier1_lr': \"T1-DATA\",\n",
    "    'network_name': \"AVI-DATA-OVERLAY-10.121.100.0\",\n",
    "    'servers': [{\n",
    "        \"server1\": {\n",
    "            \"addr\": \"10.121.100.150\",\n",
    "            \"name\": \"member_001\",\n",
    "            \"port\": \"80\"\n",
    "            },\n",
    "        \"server2\": {\n",
    "            \"addr\": \"10.121.100.151\",\n",
    "            \"name\": \"member_002\",\n",
    "            \"port\": \"80\"\n",
    "            },\n",
    "        \"server3\": {\n",
    "            \"addr\": \"10.121.100.152\",\n",
    "            \"name\": \"member_003\",\n",
    "            \"port\": \"80\"\n",
    "            }\n",
    "    }]       \n",
    "}"
   ]
  },
  {
   "cell_type": "markdown",
   "id": "999e5360-0a82-4f38-bc61-9284aa1dba72",
   "metadata": {},
   "source": [
    "### Create Pool"
   ]
  },
  {
   "cell_type": "code",
   "execution_count": 9,
   "id": "307be059-6487-4557-bc52-1f3351924b4f",
   "metadata": {},
   "outputs": [],
   "source": [
    "# Create Pool Object\n",
    "pool_obj = {\n",
    "    \"lb_algorithm\": 'LB_ALGORITHM_LEAST_CONNECTIONS',\n",
    "    \"default_server_port\": vs['port'],\n",
    "    \"name\": \"pool-\"+vs['name'],\n",
    "    \"cloud_ref\": cloud_ref,\n",
    "    \"servers\": [{\n",
    "                'hostname': vs['servers'][0]['server1']['name'],\n",
    "                'ip': {\n",
    "                     'addr': vs['servers'][0]['server1']['addr'], \n",
    "                     'type': 'V4'\n",
    "                      },\n",
    "                'port': vs['servers'][0]['server1']['port']\n",
    "                },\n",
    "                {\n",
    "                'hostname': vs['servers'][0]['server2']['name'],\n",
    "                'ip': {\n",
    "                     'addr': vs['servers'][0]['server2']['addr'], \n",
    "                     'type': 'V4'\n",
    "                      },\n",
    "                'port': vs['servers'][0]['server2']['port']\n",
    "                },\n",
    "                {\n",
    "                'hostname': vs['servers'][0]['server3']['name'],\n",
    "                'ip': {\n",
    "                     'addr': vs['servers'][0]['server3']['addr'], \n",
    "                     'type': 'V4'\n",
    "                      },\n",
    "                'port': vs['servers'][0]['server3']['port']\n",
    "                }\n",
    "        ],\n",
    "        \"health_monitor_refs\": ['/api/healthmonitor?name=System-TCP'],\n",
    "        \"tier1_lr\": \"/infra/tier-1s/\"+vs['tier1_lr']\n",
    "        }"
   ]
  },
  {
   "cell_type": "code",
   "execution_count": 48,
   "id": "db2fa982-f85f-4a27-bb35-082d44e1a4fc",
   "metadata": {},
   "outputs": [
    {
     "name": "stdout",
     "output_type": "stream",
     "text": [
      "Error in creating pool :{\"error\": \"Pool with this Name, Tenant ref and Cloud ref already exists.\"}\n"
     ]
    }
   ],
   "source": [
    "resp = api.post('pool', data=json.dumps(pool_obj))\n",
    "\n",
    "if resp.status_code in range(200, 299):\n",
    "    print(resp)\n",
    "    print('- Pool '+pool_obj['name'], resp.reason)#, resp.text)\n",
    "else:\n",
    "    print('Error in creating pool :%s' % resp.text)"
   ]
  },
  {
   "cell_type": "markdown",
   "id": "85027952-fc90-48d3-89e3-b522e0f63620",
   "metadata": {},
   "source": [
    "### Create VS_VIP (static allocation)"
   ]
  },
  {
   "cell_type": "code",
   "execution_count": 10,
   "id": "fda1544f-d0fd-488c-90be-6d58e58dd7e3",
   "metadata": {},
   "outputs": [],
   "source": [
    "#vsvip_obj = {\n",
    "#            'name': \"vsvip-\"+vs['name'],\n",
    "#            'vip': [{\n",
    "#                   'vip_id': '1',\n",
    "#                   'ip_address':{\n",
    "#                       'addr': vs['vsvip_ip'],\n",
    "#                       'type': 'V4'\n",
    "#                       }\n",
    "#                   }]\n",
    "#            }\n",
    "#resp = api.post('vsvip', data=json.dumps(vsvip_obj))\n",
    "#if resp.status_code in range(200, 299):\n",
    "#    print(resp)\n",
    "#    vsvip = api.get_object_by_name('vsvip', vsvip_obj['name'])\n",
    "#    allocated_IP = vsvip['vip'][0]['ip_address']['addr']\n",
    "#    print(\"The configured IP is: \"+allocated_IP)\n",
    "#else:\n",
    "#    print('Error in creating vsvip :%s' % resp.text)"
   ]
  },
  {
   "cell_type": "markdown",
   "id": "6c58756c-4e18-448f-83cc-2c7d76c531a4",
   "metadata": {},
   "source": [
    "### Create VS_VIP (autoallocate)"
   ]
  },
  {
   "cell_type": "code",
   "execution_count": 10,
   "id": "f580c805-b1e8-46f5-a8a5-4af3e11df8f0",
   "metadata": {},
   "outputs": [],
   "source": [
    "# Get placement network subnet\n",
    "network = api.get_object_by_name('network', vs['network_name'])\n",
    "\n",
    "# Extract subnet, mask and network_ref\n",
    "subnet = network['configured_subnets'][0]['prefix']['ip_addr']['addr']\n",
    "mask = network['configured_subnets'][0]['prefix']['mask']\n",
    "network_ref = network['url']+\"#\"+network['name']"
   ]
  },
  {
   "cell_type": "code",
   "execution_count": 11,
   "id": "27f9a30e-cd28-4fe2-a2f6-a89316f02039",
   "metadata": {},
   "outputs": [
    {
     "name": "stdout",
     "output_type": "stream",
     "text": [
      "Network Name is: AVI-DATA-OVERLAY-10.121.100.0\n",
      "Subnet is: 10.121.100.0\n",
      "Mask is: 24\n",
      "Network_ref is: https://172.25.11.6/api/network/network-e997654b-901c-42a7-9475-12e90d03f1a7#AVI-DATA-OVERLAY-10.121.100.0\n"
     ]
    }
   ],
   "source": [
    "# Print Extracted information\n",
    "print(\"Network Name is: \"+ network['name'])\n",
    "print(\"Subnet is: \"+subnet)\n",
    "print(\"Mask is: \"+str(mask))\n",
    "print(\"Network_ref is: \"+network_ref)"
   ]
  },
  {
   "cell_type": "code",
   "execution_count": 12,
   "id": "4d72b269-faf7-48a1-9a49-76951c18dea8",
   "metadata": {},
   "outputs": [],
   "source": [
    "vsvip_obj = {\n",
    "  \"cloud_ref\": cloud_ref,\n",
    "  \"vip\": [\n",
    "    {\n",
    "      \"enabled\": \"true\",\n",
    "      \"auto_allocate_ip\": \"true\",\n",
    "      \"auto_allocate_ip_type\": \"V4_ONLY\",\n",
    "      \"ipam_network_subnet\": {\n",
    "          \"network_ref\": network_ref,\n",
    "          \"subnet\": {\n",
    "            \"ip_addr\": {\n",
    "               \"addr\": subnet,\n",
    "               \"type\": \"V4\"\n",
    "            },\n",
    "            \"mask\": mask\n",
    "        }\n",
    "      },\n",
    "      \"vip_id\": 1\n",
    "    }\n",
    "  ],\n",
    "  \"name\": \"vsVip-\"+vs['name'],\n",
    "  \"tier1_lr\": \"/infra/tier-1s/\"+vs['tier1_lr']\n",
    "}"
   ]
  },
  {
   "cell_type": "code",
   "execution_count": 14,
   "id": "f7a34e41-47ee-466c-b46a-162e66b986e4",
   "metadata": {},
   "outputs": [
    {
     "name": "stdout",
     "output_type": "stream",
     "text": [
      "<Response [201]>\n",
      "The allocated IP is: 10.121.100.100\n"
     ]
    }
   ],
   "source": [
    "resp = api.post('vsvip', data=json.dumps(vsvip_obj))\n",
    "if resp.status_code in range(200, 299):\n",
    "    print(resp)\n",
    "    vsvip = api.get_object_by_name('vsvip', vsvip_obj['name'])\n",
    "    allocated_IP = vsvip['vip'][0]['ip_address']['addr']\n",
    "    print(\"The allocated IP is: \"+allocated_IP)\n",
    "else:\n",
    "    print('Error in creating vsvip :%s' % resp.text)"
   ]
  },
  {
   "cell_type": "markdown",
   "id": "a4ef0207-80d9-408f-889d-f850f08e5176",
   "metadata": {},
   "source": [
    "### Create Virtual Service "
   ]
  },
  {
   "cell_type": "code",
   "execution_count": 13,
   "id": "b78fcce6-209a-44d5-aeef-d99b4dc724f4",
   "metadata": {},
   "outputs": [],
   "source": [
    "# Gather ref of created pool and VSVIP\n",
    "get_pool_obj = api.get_object_by_name('pool', pool_obj['name'])\n",
    "pool_ref = api.get_obj_ref(get_pool_obj)\n",
    "get_vsvip_obj = api.get_object_by_name('vsvip', vsvip_obj['name'])\n",
    "vsvip_ref = api.get_obj_ref(get_vsvip_obj)\n",
    "\n",
    "# Define services object\n",
    "services_obj = [{'port': vs['port'], 'enable_ssl': False}]\n",
    "\n",
    "# Define vs_obj\n",
    "vs_obj = {\n",
    "         'cloud_ref': cloud_ref,\n",
    "         'name': \"vs-\"+vs['name'],\n",
    "         'vsvip_ref': vsvip_ref,\n",
    "         'services': services_obj, \n",
    "         'pool_ref': pool_ref,\n",
    "         'se_group_ref': se_group_ref\n",
    "         }"
   ]
  },
  {
   "cell_type": "code",
   "execution_count": 65,
   "id": "d47fe3f4-ace5-42b6-8f2b-d2fcdca4a1fa",
   "metadata": {},
   "outputs": [
    {
     "name": "stdout",
     "output_type": "stream",
     "text": [
      "Error in creating vsvip :{\"error\": \"Virtual service with this Name, Tenant ref and Cloud ref already exists.\"}\n"
     ]
    }
   ],
   "source": [
    "# Call AVI virtualservice API using post and the above json as body \n",
    "resp = api.post('virtualservice', data=json.dumps(vs_obj))\n",
    "if resp.status_code in range(200, 299):\n",
    "    print(resp)\n",
    "    print('- VirtualService '+vs_obj['name'], resp.reason)#, resp.text)\n",
    "else:\n",
    "    print('Error in creating vsvip :%s' % resp.text)"
   ]
  },
  {
   "cell_type": "markdown",
   "id": "7419a35d-f811-4074-b8a7-5b29f07fbbd8",
   "metadata": {},
   "source": [
    "## Modifications"
   ]
  },
  {
   "cell_type": "code",
   "execution_count": 85,
   "id": "daea4ca1-78bb-4993-b91b-3310f67923e6",
   "metadata": {},
   "outputs": [],
   "source": [
    "# Example, name change of existing virtual service\n",
    "vs_name = vs_obj['name']\n",
    "get_vs_obj = api.get_object_by_name('virtualservice', vs_name)"
   ]
  },
  {
   "cell_type": "code",
   "execution_count": 90,
   "id": "b8371f1a-dada-4053-b1df-4857c79ca78d",
   "metadata": {},
   "outputs": [
    {
     "data": {
      "text/plain": [
       "'vs-API-new'"
      ]
     },
     "execution_count": 90,
     "metadata": {},
     "output_type": "execute_result"
    }
   ],
   "source": [
    "# Display current name \n",
    "get_vs_obj['name']"
   ]
  },
  {
   "cell_type": "code",
   "execution_count": 88,
   "id": "5e230c64-056b-40f0-aa33-cf400b347976",
   "metadata": {},
   "outputs": [],
   "source": [
    "# Change name\n",
    "new_name = get_vs_obj['name']+\"-new\""
   ]
  },
  {
   "cell_type": "code",
   "execution_count": 89,
   "id": "3b5fba61-c2ee-46a3-9a42-20fa845ad735",
   "metadata": {},
   "outputs": [],
   "source": [
    "get_vs_obj['name']=new_name"
   ]
  },
  {
   "cell_type": "code",
   "execution_count": 91,
   "id": "a2b987ee-7e06-4bca-85ee-9814e5519a09",
   "metadata": {},
   "outputs": [],
   "source": [
    "resp = api.put('virtualservice', json.dumps(get_vs_obj))"
   ]
  },
  {
   "cell_type": "code",
   "execution_count": 94,
   "id": "d7d99fa1-6706-4358-ba22-293110b3bb0f",
   "metadata": {},
   "outputs": [
    {
     "data": {
      "text/plain": [
       "405"
      ]
     },
     "execution_count": 94,
     "metadata": {},
     "output_type": "execute_result"
    }
   ],
   "source": [
    "resp.status_code"
   ]
  },
  {
   "cell_type": "markdown",
   "id": "d136b691-89c2-43ce-9058-c091de835e0f",
   "metadata": {},
   "source": [
    "## Get metric of VSs"
   ]
  },
  {
   "cell_type": "code",
   "execution_count": 80,
   "id": "37bc1fbe-c27d-4c23-b89b-3663667bb526",
   "metadata": {},
   "outputs": [],
   "source": [
    "# VS_Metrics\n",
    "#metric_id='l4_client.avg_bandwidth'\n",
    "metric_id='l4_client.max_open_conns'\n",
    "entity_type='virtualservice'\n",
    "\n",
    "resp = api.get_object_by_name(entity_type, vs_obj['name'])\n",
    "uuid = api.get_obj_uuid(resp)\n",
    "path = 'analytics/metrics/%s/%s/?metric_id=%s&step=300&limit=100' % (entity_type, uuid, metric_id)\n",
    "resp = api.get(path)\n",
    "if resp.status_code in range(200, 299):\n",
    "    metrics_dict = json.loads(resp.text)\n",
    "    #logger.debug('%s', metrics_dict)\n",
    "    #print(json.dumps(metrics_dict, indent=2))\n",
    "else:\n",
    "    logger.debug('Error in getting %s metric for name : %s' % (entity_type, name))"
   ]
  },
  {
   "cell_type": "code",
   "execution_count": 81,
   "id": "5188b652-9c9f-4bd4-9ea9-cd30e43fec1e",
   "metadata": {},
   "outputs": [
    {
     "data": {
      "text/plain": [
       "Text(0.5, 1.0, 'Metrics')"
      ]
     },
     "execution_count": 81,
     "metadata": {},
     "output_type": "execute_result"
    },
    {
     "data": {
      "image/png": "[encoded data removed]",
      "text/plain": [
       "<Figure size 640x480 with 1 Axes>"
      ]
     },
     "metadata": {},
     "output_type": "display_data"
    }
   ],
   "source": [
    "df = pd.read_json(json.dumps(metrics_dict['series'][0]['data']))\n",
    "df.plot(x=\"timestamp\", y=\"value\")\n",
    "plt.xlabel(\"Time\", size=10)\n",
    "plt.ylabel(metric_id, size=10)\n",
    "plt.title(\"Metrics\", size=20)"
   ]
  },
  {
   "cell_type": "markdown",
   "id": "31a25424-6d19-43ed-ba19-2a77b5acf833",
   "metadata": {},
   "source": [
    "## Get inventory of VSs"
   ]
  },
  {
   "cell_type": "code",
   "execution_count": 77,
   "id": "759fc18d-f806-44e2-bcf4-583ecfadce19",
   "metadata": {},
   "outputs": [],
   "source": [
    "inventory_type='virtualservice-inventory'\n",
    "entity_type='virtualservice'\n",
    "\n",
    "resp = api.get_object_by_name(entity_type, vs_obj['name'])\n",
    "uuid = api.get_obj_uuid(resp)\n",
    "\n",
    "params = {}\n",
    "params['page'] = 1\n",
    "params['page_size'] = 10\n",
    "inventory_path = inventory_type\n",
    "if uuid:\n",
    "    # this is case of inventory for a specific object\n",
    "    inventory_path = inventory_path + '/' + uuid\n",
    "resp = api.get(inventory_path, params=params)\n",
    "\n",
    "if resp.status_code in range(200, 299):\n",
    "    json.loads(resp.text)\n",
    "else:\n",
    "    'Error in getting inventory for %s, Error :%s' % (inventory_type, resp.text)"
   ]
  },
  {
   "cell_type": "code",
   "execution_count": 78,
   "id": "ddcd5c03-e36e-4114-9bb6-f07db707a461",
   "metadata": {},
   "outputs": [
    {
     "data": {
      "text/plain": [
       "{'config': {'name': 'vs-API',\n",
       "  'uuid': 'virtualservice-d2532399-50bb-4546-a487-d35e9f3747ce',\n",
       "  'url': 'https://172.25.11.6/api/virtualservice/virtualservice-d2532399-50bb-4546-a487-d35e9f3747ce',\n",
       "  'services': [{'enable_http2': False,\n",
       "    'enable_ssl': False,\n",
       "    'horizon_internal_ports': False,\n",
       "    'is_active_ftp_data_port': False,\n",
       "    'port': 6443,\n",
       "    'port_range_end': 6443}],\n",
       "  'pool_ref': 'https://172.25.11.6/api/pool/pool-cbde99da-7ef3-4681-ab55-2892dd80c3c2',\n",
       "  'fqdn': '',\n",
       "  'type': 'VS_TYPE_NORMAL',\n",
       "  'vh_domain_name': '',\n",
       "  'tenant_ref': 'https://172.25.11.6/api/tenant/admin',\n",
       "  'cloud_ref': 'https://172.25.11.6/api/cloud/cloud-ec9cf668-9f95-43e3-ac2c-243e0617eeaf',\n",
       "  'se_group_ref': 'https://172.25.11.6/api/serviceenginegroup/serviceenginegroup-8b907faf-bf91-43f5-b0aa-97f3f41be154',\n",
       "  'vrf_context_ref': 'https://172.25.11.6/api/vrfcontext/vrfcontext-fd68ca4d-ef4c-434c-a3c1-28d5d9c19fb5',\n",
       "  'enabled': True,\n",
       "  'vsvip_ref': 'https://172.25.11.6/api/vsvip/vsvip-b1563d5d-53da-4ff9-9920-64bd5397ba07',\n",
       "  'east_west_placement': False,\n",
       "  'dns_info': [],\n",
       "  'vip': [{'auto_allocate_floating_ip': False,\n",
       "    'auto_allocate_ip': True,\n",
       "    'auto_allocate_ip_type': 'V4_ONLY',\n",
       "    'avi_allocated_fip': False,\n",
       "    'avi_allocated_vip': False,\n",
       "    'enabled': True,\n",
       "    'ip_address': {'addr': '10.121.100.100', 'type': 'V4'},\n",
       "    'ipam_network_subnet': {'network_ref': 'https://172.25.11.6/api/network/network-e997654b-901c-42a7-9475-12e90d03f1a7',\n",
       "     'subnet': {'ip_addr': {'addr': '10.121.100.0', 'type': 'V4'},\n",
       "      'mask': 24}},\n",
       "    'prefix_length': 32,\n",
       "    'vip_id': '1'}]},\n",
       " 'runtime': {'oper_status': {'state': 'OPER_UP',\n",
       "   'last_changed_time': {'secs': 1686085158, 'usecs': 691659}},\n",
       "  'one_plus_one_ha': True,\n",
       "  'percent_ses_up': 100,\n",
       "  'vip_summary': [{'vip_id': '1',\n",
       "    'oper_status': {'state': 'OPER_UP',\n",
       "     'last_changed_time': {'secs': 1686085158, 'usecs': 691659}},\n",
       "    'service_engine': [{'uuid': 'se-005056b686d8',\n",
       "      'primary': True,\n",
       "      'standby': False,\n",
       "      'connected': True,\n",
       "      'mgmt_ip': {'addr': '10.121.50.11', 'type': 'V4'},\n",
       "      'active_on_cloud': True,\n",
       "      'active_on_se': True,\n",
       "      'url': 'https://172.25.11.6/api/serviceengine/se-005056b686d8'},\n",
       "     {'uuid': 'se-005056b60557',\n",
       "      'primary': False,\n",
       "      'standby': True,\n",
       "      'connected': True,\n",
       "      'mgmt_ip': {'addr': '10.121.50.10', 'type': 'V4'},\n",
       "      'active_on_cloud': False,\n",
       "      'active_on_se': True,\n",
       "      'url': 'https://172.25.11.6/api/serviceengine/se-005056b60557'}],\n",
       "    'num_se_requested': 2,\n",
       "    'num_se_assigned': 2,\n",
       "    'percent_ses_up': 100,\n",
       "    'auto_allocate_floating_ip': False,\n",
       "    'auto_allocate_ip': True,\n",
       "    'auto_allocate_ip_type': 'V4_ONLY',\n",
       "    'avi_allocated_fip': False,\n",
       "    'avi_allocated_vip': False,\n",
       "    'enabled': True,\n",
       "    'ip_address': {'addr': '10.121.100.100', 'type': 'V4'},\n",
       "    'ipam_network_subnet': {'network_ref': 'https://172.25.11.6/api/network/network-e997654b-901c-42a7-9475-12e90d03f1a7',\n",
       "     'subnet': {'ip_addr': {'addr': '10.121.100.0', 'type': 'V4'},\n",
       "      'mask': 24}},\n",
       "    'prefix_length': 32}]},\n",
       " 'uuid': 'virtualservice-d2532399-50bb-4546-a487-d35e9f3747ce',\n",
       " 'health_score': {'health_score': 100.0,\n",
       "  'anomaly_penalty': 0.0,\n",
       "  'resources_penalty': 0.0,\n",
       "  'performance_score': 100.0,\n",
       "  'security_penalty': 0.0},\n",
       " 'alert': {'low': 2, 'medium': 0, 'high': 0},\n",
       " 'pools': ['/api/pool/pool-cbde99da-7ef3-4681-ab55-2892dd80c3c2'],\n",
       " 'poolgroups': [],\n",
       " 'app_profile_type': 'APPLICATION_PROFILE_TYPE_HTTP',\n",
       " 'has_pool_with_realtime_metrics': False,\n",
       " 'metrics': {}}"
      ]
     },
     "execution_count": 78,
     "metadata": {},
     "output_type": "execute_result"
    }
   ],
   "source": [
    "json.loads(resp.text)"
   ]
  },
  {
   "cell_type": "code",
   "execution_count": null,
   "id": "e45a2397-1b5a-4705-bc75-3f2d7fd06cc2",
   "metadata": {},
   "outputs": [],
   "source": []
  }
 ],
 "metadata": {
  "kernelspec": {
   "display_name": "Python 3 (ipykernel)",
   "language": "python",
   "name": "python3"
  },
  "language_info": {
   "codemirror_mode": {
    "name": "ipython",
    "version": 3
   },
   "file_extension": ".py",
   "mimetype": "text/x-python",
   "name": "python",
   "nbconvert_exporter": "python",
   "pygments_lexer": "ipython3",
   "version": "3.10.9"
  }
 },
 "nbformat": 4,
 "nbformat_minor": 5
}
