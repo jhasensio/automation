{
 "cells": [
  {
   "cell_type": "markdown",
   "id": "f541521e",
   "metadata": {},
   "source": [
    "# Hello World for Ansible Jupyter Kernel\n",
    "Runs a task using Ansible.\n",
    "\n",
    "Press shift-enter to run the task.\n",
    "\n",
    "Press shift-tab to get task docs. Press the ^ icon to expand the docs."
   ]
  },
  {
   "cell_type": "code",
   "execution_count": 1,
   "id": "f323023b",
   "metadata": {},
   "outputs": [
    {
     "name": "stdout",
     "output_type": "stream",
     "text": [
      "TASK [debug] *******************************************************************\n",
      "ok: [localhost] => {\n",
      "    \"msg\": \"Hello world!\"\n",
      "}\n"
     ]
    }
   ],
   "source": [
    "debug: "
   ]
  },
  {
   "cell_type": "code",
   "execution_count": 7,
   "id": "679c6d7a",
   "metadata": {},
   "outputs": [
    {
     "name": "stdout",
     "output_type": "stream",
     "text": [
      "\n",
      "{'counter': 1,\n",
      " 'created': '2023-06-07T08:01:25.765821',\n",
      " 'end_line': 1,\n",
      " 'event': 'verbose',\n",
      " 'runner_ident': 'e6cfdc0d-6ae2-44d2-8cf1-68fe75c7c7fe',\n",
      " 'start_line': 0,\n",
      " 'stdout': \"\\x1b[0;31mERROR! the role 'avinetworks.avisdk' was not found in \"\n",
      "           '/private/var/folders/mq/q_xr4c0126v6pdn3m_tcv7d80000gq/T/ansible_kernel_playbook9_ojuvew/project/roles:/Users/johernandez/anaconda3/lib/python3.10/site-packages/ansible_kernel/roles:/private/var/folders/mq/q_xr4c0126v6pdn3m_tcv7d80000gq/T/ansible_kernel_playbook9_ojuvew/project\\x1b[0m',\n",
      " 'uuid': '7d7841c3-d0f8-4055-ac36-d89b66cf81e2'}\n",
      "{'counter': 2,\n",
      " 'created': '2023-06-07T08:01:25.767597',\n",
      " 'end_line': 2,\n",
      " 'event': 'verbose',\n",
      " 'runner_ident': 'e6cfdc0d-6ae2-44d2-8cf1-68fe75c7c7fe',\n",
      " 'start_line': 1,\n",
      " 'stdout': '\\x1b[0;31m\\x1b[0m',\n",
      " 'uuid': '3dac58a3-53fe-4853-aeaa-d080b3bab587'}\n",
      "{'counter': 3,\n",
      " 'created': '2023-06-07T08:01:25.768134',\n",
      " 'end_line': 3,\n",
      " 'event': 'verbose',\n",
      " 'runner_ident': 'e6cfdc0d-6ae2-44d2-8cf1-68fe75c7c7fe',\n",
      " 'start_line': 2,\n",
      " 'stdout': '\\x1b[0;31mThe error appears to be in '\n",
      "           \"'/private/var/folders/mq/q_xr4c0126v6pdn3m_tcv7d80000gq/T/ansible_kernel_playbook9_ojuvew/project/playbook.yml': \"\n",
      "           'line 5, column 5, but may\\x1b[0m',\n",
      " 'uuid': '28b2bebb-1086-4753-8ebe-30423de13247'}\n",
      "{'counter': 4,\n",
      " 'created': '2023-06-07T08:01:25.768679',\n",
      " 'end_line': 4,\n",
      " 'event': 'verbose',\n",
      " 'runner_ident': 'e6cfdc0d-6ae2-44d2-8cf1-68fe75c7c7fe',\n",
      " 'start_line': 3,\n",
      " 'stdout': '\\x1b[0;31mbe elsewhere in the file depending on the exact syntax '\n",
      "           'problem.\\x1b[0m',\n",
      " 'uuid': '0ca005c1-2ba0-46d5-9913-452e2702f137'}\n",
      "{'counter': 5,\n",
      " 'created': '2023-06-07T08:01:25.769419',\n",
      " 'end_line': 5,\n",
      " 'event': 'verbose',\n",
      " 'runner_ident': 'e6cfdc0d-6ae2-44d2-8cf1-68fe75c7c7fe',\n",
      " 'start_line': 4,\n",
      " 'stdout': '\\x1b[0;31m\\x1b[0m',\n",
      " 'uuid': '1333f07c-302a-4c8e-ac36-9595dc2a8d1e'}\n",
      "{'counter': 6,\n",
      " 'created': '2023-06-07T08:01:25.770147',\n",
      " 'end_line': 6,\n",
      " 'event': 'verbose',\n",
      " 'runner_ident': 'e6cfdc0d-6ae2-44d2-8cf1-68fe75c7c7fe',\n",
      " 'start_line': 5,\n",
      " 'stdout': '\\x1b[0;31mThe offending line appears to be:\\x1b[0m',\n",
      " 'uuid': 'beeb9cae-1160-4dbd-8cad-d5cc05c2c72c'}\n",
      "{'counter': 7,\n",
      " 'created': '2023-06-07T08:01:25.770689',\n",
      " 'end_line': 7,\n",
      " 'event': 'verbose',\n",
      " 'runner_ident': 'e6cfdc0d-6ae2-44d2-8cf1-68fe75c7c7fe',\n",
      " 'start_line': 6,\n",
      " 'stdout': '\\x1b[0;31m\\x1b[0m',\n",
      " 'uuid': '1272bf06-6f66-4551-8754-65deb31c99ab'}\n",
      "{'counter': 8,\n",
      " 'created': '2023-06-07T08:01:25.771134',\n",
      " 'end_line': 8,\n",
      " 'event': 'verbose',\n",
      " 'runner_ident': 'e6cfdc0d-6ae2-44d2-8cf1-68fe75c7c7fe',\n",
      " 'start_line': 7,\n",
      " 'stdout': '\\x1b[0;31m  - ansible_kernel_helpers\\x1b[0m',\n",
      " 'uuid': 'c9ffd931-17f2-4e92-96c2-4321c18e79fd'}\n",
      "{'counter': 9,\n",
      " 'created': '2023-06-07T08:01:25.771553',\n",
      " 'end_line': 9,\n",
      " 'event': 'verbose',\n",
      " 'runner_ident': 'e6cfdc0d-6ae2-44d2-8cf1-68fe75c7c7fe',\n",
      " 'start_line': 8,\n",
      " 'stdout': '\\x1b[0;31m  - role: avinetworks.avisdk\\x1b[0m',\n",
      " 'uuid': 'd982a024-d65b-43d1-8dd2-fef9f3d76556'}\n",
      "{'counter': 10,\n",
      " 'created': '2023-06-07T08:01:25.771988',\n",
      " 'end_line': 10,\n",
      " 'event': 'verbose',\n",
      " 'runner_ident': 'e6cfdc0d-6ae2-44d2-8cf1-68fe75c7c7fe',\n",
      " 'start_line': 9,\n",
      " 'stdout': '\\x1b[0;31m    ^ here\\x1b[0m',\n",
      " 'uuid': '0460fbf0-02c3-4889-a363-2bdf1bbeb31e'}\n"
     ]
    },
    {
     "ename": "KeyError",
     "evalue": "'pause_for_kernel'",
     "output_type": "error",
     "traceback": [
      "Traceback (most recent call last):",
      "  File \"/Users/johernandez/anaconda3/lib/python3.10/site-packages/ansible_kernel/kernel.py\", line 541, in do_execute",
      "    return self.do_execute_play(code)",
      "  File \"/Users/johernandez/anaconda3/lib/python3.10/site-packages/ansible_kernel/kernel.py\", line 674, in do_execute_play",
      "    self.start_ansible_playbook()",
      "  File \"/Users/johernandez/anaconda3/lib/python3.10/site-packages/ansible_kernel/kernel.py\", line 708, in start_ansible_playbook",
      "    if self.process_message(msg.message):",
      "  File \"/Users/johernandez/anaconda3/lib/python3.10/site-packages/ansible_kernel/kernel.py\", line 448, in process_message",
      "    self.rewrite_ports()",
      "  File \"/Users/johernandez/anaconda3/lib/python3.10/site-packages/ansible_kernel/kernel.py\", line 294, in rewrite_ports",
      "    playbook[0]['tasks'][0]['pause_for_kernel']['port'] = self.helper.pause_socket_port",
      "KeyError: 'pause_for_kernel'"
     ]
    }
   ],
   "source": [
    "#play\n",
    "hosts: localhost\n",
    "connection: local\n",
    "roles:\n",
    "  - role: avinetworks.avisdk\n",
    "tasks:\n",
    "  - name: Print Hello\n",
    "    debug: msg=\"Hello\""
   ]
  },
  {
   "cell_type": "code",
   "execution_count": 5,
   "id": "4b38c98e",
   "metadata": {},
   "outputs": [
    {
     "name": "stdout",
     "output_type": "stream",
     "text": [
      "\n"
     ]
    }
   ],
   "source": [
    "#play\n",
    "hosts: localhost\n",
    "gather_facts: false"
   ]
  },
  {
   "cell_type": "code",
   "execution_count": 6,
   "id": "efad0ccd",
   "metadata": {},
   "outputs": [
    {
     "name": "stdout",
     "output_type": "stream",
     "text": [
      "Starting galaxy role install process\n",
      "- downloading role 'hello_role', owned by benthomasson\n",
      "- downloading role from https://github.com/benthomasson/hello-role/archive/master.tar.gz\n",
      "- extracting benthomasson.hello_role to /private/var/folders/mq/q_xr4c0126v6pdn3m_tcv7d80000gq/T/ansible_kernel_playbook9_ojuvew/project/roles/benthomasson.hello_role\n",
      "- benthomasson.hello_role (master) was installed successfully\n",
      "TASK [include_role] ************************************************************\n",
      "ok: [localhost] => {\n",
      "    \"include_args\": {\n",
      "        \"name\": \"benthomasson.hello_role\"\n",
      "    }\n",
      "}\n",
      "TASK [benthomasson.hello_role : debug] *****************************************\n",
      "ok: [localhost] => {\n",
      "    \"msg\": \"Hello world!\"\n",
      "}\n"
     ]
    }
   ],
   "source": [
    "include_role:\n",
    "    name: benthomasson.hello_role"
   ]
  },
  {
   "cell_type": "code",
   "execution_count": null,
   "id": "5371dd03",
   "metadata": {},
   "outputs": [],
   "source": []
  }
 ],
 "metadata": {
  "kernelspec": {
   "display_name": "Ansible",
   "language": "ansible",
   "name": "ansible"
  },
  "language_info": {
   "codemirror_mode": "yaml",
   "file_extension": ".yml",
   "mimetype": "text/yaml",
   "name": "ansible"
  }
 },
 "nbformat": 4,
 "nbformat_minor": 5
}
