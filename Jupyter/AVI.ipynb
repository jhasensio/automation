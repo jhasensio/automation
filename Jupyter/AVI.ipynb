{
 "cells": [
  {
   "cell_type": "markdown",
   "id": "62a52726-985f-4cf1-bad4-dd9aa3e32d89",
   "metadata": {},
   "source": [
    "# AVI Demo Walkthrough\n",
    "\n",
    "https://github.com/vmware/alb-sdk/blob/22.1.3/python/avi/sdk\n",
    "\n",
    "\n",
    "<img src=\"files/imagen2.png\">"
   ]
  },
  {
   "cell_type": "markdown",
   "id": "4ac8d9f7",
   "metadata": {},
   "source": [
    "### A Basic VS require some objects to be created beforehand\n",
    "\n",
    "       VSVIP.- IP Address used to expose the service. (Can be static or autoallocated by IPAM)\n",
    "       POOL.- A set of Servers forming a common farm with same contents\n",
    "       SE_GROUP.- (default = Default-Group). Service Engine Group in where the VS is going to be realized\n",
    "       CLOUD.- (default = Default-Cloud). Used to specify the infra provider the object belongs to\n"
   ]
  },
  {
   "cell_type": "markdown",
   "id": "b1d7e1a1-69a2-4f18-92b4-fb14d2a56fac",
   "metadata": {},
   "source": [
    "### Import Libraries"
   ]
  },
  {
   "cell_type": "code",
   "execution_count": null,
   "id": "9fe61adb-7369-488e-86fb-be421da06295",
   "metadata": {},
   "outputs": [],
   "source": [
    "# Import libraries (pip install avisdk first to install AVI SDK)\n",
    "from avi.sdk.avi_api import ApiSession\n",
    "import datetime, time\n",
    "from requests.packages import urllib3\n",
    "urllib3.disable_warnings()\n",
    "import json\n",
    "import sys\n",
    "import pandas as pd\n",
    "import matplotlib.pyplot as plt"
   ]
  },
  {
   "cell_type": "code",
   "execution_count": null,
   "id": "7b3cd415-30ad-479c-9ab5-57068720ae19",
   "metadata": {},
   "outputs": [],
   "source": [
    "import pandas as pd\n",
    "import matplotlib.pyplot as plt"
   ]
  },
  {
   "cell_type": "markdown",
   "id": "500452d3-0ec2-4af5-8788-e281af3e57c4",
   "metadata": {},
   "source": [
    "### Import Environment Variables"
   ]
  },
  {
   "cell_type": "code",
   "execution_count": null,
   "id": "c8ddd831-7372-48ca-84db-49bbdea4844b",
   "metadata": {},
   "outputs": [],
   "source": [
    "from envs.demo_env import demo_env_params as demo_env"
   ]
  },
  {
   "cell_type": "markdown",
   "id": "400c5f4b-b396-4d63-aa4b-51c076c2e0b1",
   "metadata": {},
   "source": [
    " ### Establish Session with Controller "
   ]
  },
  {
   "cell_type": "code",
   "execution_count": null,
   "id": "0beedad0-b805-4a77-85d4-66b4a713e1f2",
   "metadata": {},
   "outputs": [],
   "source": [
    "# Establish a first session\n",
    "api = ApiSession(\n",
    "    controller_ip=demo_env['controller_ip'],\n",
    "    username=demo_env['controller_username'],\n",
    "    password=demo_env['controller_password'],\n",
    "    tenant=demo_env['tenant'],\n",
    "    api_version=demo_env['api_version']\n",
    "    )\n",
    "# Update headers and api version imported from demo env file with controller version (ensure actual API Version is uses in subsequent requests\n",
    "demo_env['headers']['X-Avi-Version'] = api.remote_api_version['Version']\n",
    "demo_env['api_version'] = api.remote_api_version['Version']\n",
    "\n",
    "# Create a new session with received AVI API Version\n",
    "api = ApiSession(\n",
    "    controller_ip=demo_env['controller_ip'],\n",
    "    username=demo_env['controller_username'],\n",
    "    password=demo_env['controller_password'],\n",
    "    tenant=demo_env['tenant'],\n",
    "    api_version=demo_env['api_version']\n",
    "    )"
   ]
  },
  {
   "cell_type": "markdown",
   "id": "51bd4a3e-af6d-4976-846a-f2a5da65fd34",
   "metadata": {},
   "source": [
    "### Verify controller connectivity by showing session ID "
   ]
  },
  {
   "cell_type": "code",
   "execution_count": null,
   "id": "23261866-ce52-4ecc-abda-2d25cdfcb1fe",
   "metadata": {},
   "outputs": [],
   "source": [
    "print('Successful connection to ' + demo_env['name'] + '. Session ID:' + api.session_id)"
   ]
  },
  {
   "cell_type": "markdown",
   "id": "47c1b9dc-30ea-4f13-a818-eaab3233216a",
   "metadata": {},
   "source": [
    "### Get Cloud and SE_Group References"
   ]
  },
  {
   "cell_type": "code",
   "execution_count": null,
   "id": "16ce2c28-010b-4afe-8929-a55581d60018",
   "metadata": {},
   "outputs": [],
   "source": [
    "# Get cloud uuid (cloud = connector with any infra environment such as vcenter, nsx-t, aws, gcp... etc)\n",
    "cloud = api.get_object_by_name('cloud', demo_env['cloud'])\n",
    "cloud_ref = api.get_obj_ref(cloud)\n",
    "print('The cloud reference is ' + cloud_ref)"
   ]
  },
  {
   "cell_type": "code",
   "execution_count": null,
   "id": "029b6d6a-ec0f-4ba7-a09c-7e684e11bdd8",
   "metadata": {},
   "outputs": [],
   "source": [
    "# Get se_group_ref  (Service Engine Group defines a common set of policies (size, HA scheme, etc) for a given set of Service Engines\n",
    "se_group = api.get_object_by_name('serviceenginegroup', demo_env['service_engine_group'])\n",
    "se_group_ref = api.get_obj_ref(se_group)\n",
    "print('The se_group reference is ' +se_group_ref)"
   ]
  },
  {
   "cell_type": "markdown",
   "id": "99b5b2fd-8297-4758-8607-ff97b4f5a197",
   "metadata": {},
   "source": [
    "## Define Virtual_Service Configuration Parameters"
   ]
  },
  {
   "cell_type": "code",
   "execution_count": null,
   "id": "fb95ef33-61fc-4e12-b818-3be8f6f8e81d",
   "metadata": {},
   "outputs": [],
   "source": [
    "vs = {\n",
    "    'vsvip_ip': \"10.151.80.88\",\n",
    "    'name': \"API\",\n",
    "    'port': \"6443\",\n",
    "    'tier1_lr': \"T1-DATA\",\n",
    "    'network_name': \"AVI-DATA-OVERLAY-10.121.100.0\",\n",
    "    'servers': [{\n",
    "        \"server1\": {\n",
    "            \"addr\": \"10.121.100.150\",\n",
    "            \"name\": \"member_001\",\n",
    "            \"port\": \"80\"\n",
    "            },\n",
    "        \"server2\": {\n",
    "            \"addr\": \"10.121.100.151\",\n",
    "            \"name\": \"member_002\",\n",
    "            \"port\": \"80\"\n",
    "            },\n",
    "        \"server3\": {\n",
    "            \"addr\": \"10.121.100.152\",\n",
    "            \"name\": \"member_003\",\n",
    "            \"port\": \"80\"\n",
    "            }\n",
    "    }]       \n",
    "}"
   ]
  },
  {
   "cell_type": "markdown",
   "id": "999e5360-0a82-4f38-bc61-9284aa1dba72",
   "metadata": {},
   "source": [
    "### Create Pool"
   ]
  },
  {
   "cell_type": "code",
   "execution_count": null,
   "id": "307be059-6487-4557-bc52-1f3351924b4f",
   "metadata": {},
   "outputs": [],
   "source": [
    "# Create Pool Object\n",
    "pool_obj = {\n",
    "    \"lb_algorithm\": 'LB_ALGORITHM_LEAST_CONNECTIONS',\n",
    "    \"default_server_port\": vs['port'],\n",
    "    \"name\": \"pool-\"+vs['name'],\n",
    "    \"cloud_ref\": cloud_ref,\n",
    "    \"servers\": [{\n",
    "                'hostname': vs['servers'][0]['server1']['name'],\n",
    "                'ip': {\n",
    "                     'addr': vs['servers'][0]['server1']['addr'], \n",
    "                     'type': 'V4'\n",
    "                      },\n",
    "                'port': vs['servers'][0]['server1']['port']\n",
    "                },\n",
    "                {\n",
    "                'hostname': vs['servers'][0]['server2']['name'],\n",
    "                'ip': {\n",
    "                     'addr': vs['servers'][0]['server2']['addr'], \n",
    "                     'type': 'V4'\n",
    "                      },\n",
    "                'port': vs['servers'][0]['server2']['port']\n",
    "                },\n",
    "                {\n",
    "                'hostname': vs['servers'][0]['server3']['name'],\n",
    "                'ip': {\n",
    "                     'addr': vs['servers'][0]['server3']['addr'], \n",
    "                     'type': 'V4'\n",
    "                      },\n",
    "                'port': vs['servers'][0]['server3']['port']\n",
    "                }\n",
    "        ],\n",
    "        \"health_monitor_refs\": ['/api/healthmonitor?name=System-TCP'],\n",
    "        \"tier1_lr\": \"/infra/tier-1s/\"+vs['tier1_lr']\n",
    "        }"
   ]
  },
  {
   "cell_type": "code",
   "execution_count": null,
   "id": "db2fa982-f85f-4a27-bb35-082d44e1a4fc",
   "metadata": {},
   "outputs": [],
   "source": [
    "resp = api.post('pool', data=json.dumps(pool_obj))\n",
    "\n",
    "if resp.status_code in range(200, 299):\n",
    "    print(resp)\n",
    "    print('- Pool '+pool_obj['name'], resp.reason)#, resp.text)\n",
    "else:\n",
    "    print('Error in creating pool :%s' % resp.text)"
   ]
  },
  {
   "cell_type": "markdown",
   "id": "85027952-fc90-48d3-89e3-b522e0f63620",
   "metadata": {},
   "source": [
    "### Create VS_VIP (static allocation)"
   ]
  },
  {
   "cell_type": "code",
   "execution_count": null,
   "id": "fda1544f-d0fd-488c-90be-6d58e58dd7e3",
   "metadata": {},
   "outputs": [],
   "source": [
    "#vsvip_obj = {\n",
    "#            'name': \"vsvip-\"+vs['name'],\n",
    "#            'vip': [{\n",
    "#                   'vip_id': '1',\n",
    "#                   'ip_address':{\n",
    "#                       'addr': vs['vsvip_ip'],\n",
    "#                       'type': 'V4'\n",
    "#                       }\n",
    "#                   }]\n",
    "#            }\n",
    "#resp = api.post('vsvip', data=json.dumps(vsvip_obj))\n",
    "#if resp.status_code in range(200, 299):\n",
    "#    print(resp)\n",
    "#    vsvip = api.get_object_by_name('vsvip', vsvip_obj['name'])\n",
    "#    allocated_IP = vsvip['vip'][0]['ip_address']['addr']\n",
    "#    print(\"The configured IP is: \"+allocated_IP)\n",
    "#else:\n",
    "#    print('Error in creating vsvip :%s' % resp.text)"
   ]
  },
  {
   "cell_type": "markdown",
   "id": "6c58756c-4e18-448f-83cc-2c7d76c531a4",
   "metadata": {},
   "source": [
    "### Create VS_VIP (autoallocate)"
   ]
  },
  {
   "cell_type": "code",
   "execution_count": null,
   "id": "f580c805-b1e8-46f5-a8a5-4af3e11df8f0",
   "metadata": {},
   "outputs": [],
   "source": [
    "# Get placement network subnet\n",
    "network = api.get_object_by_name('network', vs['network_name'])\n",
    "\n",
    "# Extract subnet, mask and network_ref\n",
    "subnet = network['configured_subnets'][0]['prefix']['ip_addr']['addr']\n",
    "mask = network['configured_subnets'][0]['prefix']['mask']\n",
    "network_ref = network['url']+\"#\"+network['name']"
   ]
  },
  {
   "cell_type": "code",
   "execution_count": null,
   "id": "27f9a30e-cd28-4fe2-a2f6-a89316f02039",
   "metadata": {},
   "outputs": [],
   "source": [
    "# Print Extracted information\n",
    "print(\"Network Name is: \"+ network['name'])\n",
    "print(\"Subnet is: \"+subnet)\n",
    "print(\"Mask is: \"+str(mask))\n",
    "print(\"Network_ref is: \"+network_ref)"
   ]
  },
  {
   "cell_type": "code",
   "execution_count": null,
   "id": "4d72b269-faf7-48a1-9a49-76951c18dea8",
   "metadata": {},
   "outputs": [],
   "source": [
    "vsvip_obj = {\n",
    "  \"cloud_ref\": cloud_ref,\n",
    "  \"vip\": [\n",
    "    {\n",
    "      \"enabled\": \"true\",\n",
    "      \"auto_allocate_ip\": \"true\",\n",
    "      \"auto_allocate_ip_type\": \"V4_ONLY\",\n",
    "      \"ipam_network_subnet\": {\n",
    "          \"network_ref\": network_ref,\n",
    "          \"subnet\": {\n",
    "            \"ip_addr\": {\n",
    "               \"addr\": subnet,\n",
    "               \"type\": \"V4\"\n",
    "            },\n",
    "            \"mask\": mask\n",
    "        }\n",
    "      },\n",
    "      \"vip_id\": 1\n",
    "    }\n",
    "  ],\n",
    "  \"name\": \"vsVip-\"+vs['name'],\n",
    "  \"tier1_lr\": \"/infra/tier-1s/\"+vs['tier1_lr']\n",
    "}"
   ]
  },
  {
   "cell_type": "code",
   "execution_count": null,
   "id": "f7a34e41-47ee-466c-b46a-162e66b986e4",
   "metadata": {},
   "outputs": [],
   "source": [
    "resp = api.post('vsvip', data=json.dumps(vsvip_obj))\n",
    "if resp.status_code in range(200, 299):\n",
    "    print(resp)\n",
    "    vsvip = api.get_object_by_name('vsvip', vsvip_obj['name'])\n",
    "    allocated_IP = vsvip['vip'][0]['ip_address']['addr']\n",
    "    print(\"The allocated IP is: \"+allocated_IP)\n",
    "else:\n",
    "    print('Error in creating vsvip :%s' % resp.text)"
   ]
  },
  {
   "cell_type": "markdown",
   "id": "a4ef0207-80d9-408f-889d-f850f08e5176",
   "metadata": {},
   "source": [
    "### Create Virtual Service "
   ]
  },
  {
   "cell_type": "code",
   "execution_count": null,
   "id": "b78fcce6-209a-44d5-aeef-d99b4dc724f4",
   "metadata": {},
   "outputs": [],
   "source": [
    "# Gather ref of created pool and VSVIP\n",
    "get_pool_obj = api.get_object_by_name('pool', pool_obj['name'])\n",
    "pool_ref = api.get_obj_ref(get_pool_obj)\n",
    "get_vsvip_obj = api.get_object_by_name('vsvip', vsvip_obj['name'])\n",
    "vsvip_ref = api.get_obj_ref(get_vsvip_obj)\n",
    "\n",
    "# Define services object\n",
    "services_obj = [{'port': vs['port'], 'enable_ssl': False}]\n",
    "\n",
    "# Define vs_obj\n",
    "vs_obj = {\n",
    "         'cloud_ref': cloud_ref,\n",
    "         'name': \"vs-\"+vs['name'],\n",
    "         'vsvip_ref': vsvip_ref,\n",
    "         'services': services_obj, \n",
    "         'pool_ref': pool_ref,\n",
    "         'se_group_ref': se_group_ref\n",
    "         }"
   ]
  },
  {
   "cell_type": "code",
   "execution_count": null,
   "id": "d47fe3f4-ace5-42b6-8f2b-d2fcdca4a1fa",
   "metadata": {},
   "outputs": [],
   "source": [
    "# Call AVI virtualservice API using post and the above json as body \n",
    "resp = api.post('virtualservice', data=json.dumps(vs_obj))\n",
    "if resp.status_code in range(200, 299):\n",
    "    print(resp)\n",
    "    print('- VirtualService '+vs_obj['name'], resp.reason)#, resp.text)\n",
    "else:\n",
    "    print('Error in creating vsvip :%s' % resp.text)"
   ]
  },
  {
   "cell_type": "markdown",
   "id": "d136b691-89c2-43ce-9058-c091de835e0f",
   "metadata": {},
   "source": [
    "## Get metric of VSs"
   ]
  },
  {
   "cell_type": "code",
   "execution_count": null,
   "id": "37bc1fbe-c27d-4c23-b89b-3663667bb526",
   "metadata": {},
   "outputs": [],
   "source": [
    "# VS_Metrics\n",
    "#metric_id='l4_client.avg_bandwidth'\n",
    "metric_id='l4_client.max_open_conns'\n",
    "entity_type='virtualservice'\n",
    "\n",
    "resp = api.get_object_by_name(entity_type, vs_obj['name'])\n",
    "uuid = api.get_obj_uuid(resp)\n",
    "path = 'analytics/metrics/%s/%s/?metric_id=%s&step=300&limit=10' % (entity_type, uuid, metric_id)\n",
    "resp = api.get(path)\n",
    "if resp.status_code in range(200, 299):\n",
    "    metrics_dict = json.loads(resp.text)\n",
    "    #logger.debug('%s', metrics_dict)\n",
    "    #print(json.dumps(metrics_dict, indent=2))\n",
    "else:\n",
    "    logger.debug('Error in getting %s metric for name : %s' % (entity_type, name))"
   ]
  },
  {
   "cell_type": "code",
   "execution_count": null,
   "id": "5188b652-9c9f-4bd4-9ea9-cd30e43fec1e",
   "metadata": {},
   "outputs": [],
   "source": [
    "df = pd.read_json(json.dumps(metrics_dict['series'][0]['data']))\n",
    "df.plot(x=\"timestamp\", y=\"value\")\n",
    "plt.xlabel(\"Time\", size=10)\n",
    "plt.ylabel(metric_id, size=10)\n",
    "plt.title(\"Metrics\", size=20)"
   ]
  },
  {
   "cell_type": "markdown",
   "id": "31a25424-6d19-43ed-ba19-2a77b5acf833",
   "metadata": {},
   "source": [
    "## Get inventory of VSs"
   ]
  },
  {
   "cell_type": "code",
   "execution_count": null,
   "id": "759fc18d-f806-44e2-bcf4-583ecfadce19",
   "metadata": {},
   "outputs": [],
   "source": [
    "inventory_type='virtualservice-inventory'\n",
    "entity_type='virtualservice'\n",
    "\n",
    "resp = api.get_object_by_name(entity_type, vs_obj['name'])\n",
    "uuid = api.get_obj_uuid(resp)\n",
    "\n",
    "params = {}\n",
    "params['page'] = 1\n",
    "params['page_size'] = 10\n",
    "inventory_path = inventory_type\n",
    "if uuid:\n",
    "    # this is case of inventory for a specific object\n",
    "    inventory_path = inventory_path + '/' + uuid\n",
    "resp = api.get(inventory_path, params=params)\n",
    "\n",
    "if resp.status_code in range(200, 299):\n",
    "    json.loads(resp.text)\n",
    "else:\n",
    "    'Error in getting inventory for %s, Error :%s' % (inventory_type, resp.text)"
   ]
  },
  {
   "cell_type": "code",
   "execution_count": null,
   "id": "ddcd5c03-e36e-4114-9bb6-f07db707a461",
   "metadata": {},
   "outputs": [],
   "source": [
    "json.loads(resp.text)"
   ]
  }
 ],
 "metadata": {
  "kernelspec": {
   "display_name": "Python 3 (ipykernel)",
   "language": "python",
   "name": "python3"
  },
  "language_info": {
   "codemirror_mode": {
    "name": "ipython",
    "version": 3
   },
   "file_extension": ".py",
   "mimetype": "text/x-python",
   "name": "python",
   "nbconvert_exporter": "python",
   "pygments_lexer": "ipython3",
   "version": "3.10.9"
  }
 },
 "nbformat": 4,
 "nbformat_minor": 5
}
