{
 "cells": [
  {
   "cell_type": "markdown",
   "id": "62a52726-985f-4cf1-bad4-dd9aa3e32d89",
   "metadata": {},
   "source": [
    "# AVI Demo Walkthrough\n",
    "\n",
    "https://github.com/vmware/alb-sdk/blob/22.1.3/python/avi/sdk\n",
    "\n",
<<<<<<< HEAD
    "<img src=\"files/imagen2.png\" style=\"width:1600px\">\n"
=======
    "<img src=\"files/imagen2.png\" style=\"width:1600px\">"
>>>>>>> refs/remotes/origin/main
   ]
  },
  {
   "cell_type": "markdown",
   "id": "b1d7e1a1-69a2-4f18-92b4-fb14d2a56fac",
   "metadata": {},
   "source": [
    "### Import Libraries"
   ]
  },
  {
   "cell_type": "code",
   "execution_count": 4,
   "id": "9fe61adb-7369-488e-86fb-be421da06295",
   "metadata": {},
   "outputs": [],
   "source": [
    "# Import libraries (pip install avisdk first to install AVI SDK)\n",
    "from avi.sdk.avi_api import ApiSession\n",
    "import datetime, time\n",
    "from requests.packages import urllib3\n",
    "urllib3.disable_warnings()\n",
    "import json\n",
    "import sys"
   ]
  },
  {
   "cell_type": "code",
   "execution_count": 5,
   "id": "7b3cd415-30ad-479c-9ab5-57068720ae19",
   "metadata": {},
   "outputs": [],
   "source": [
    "import pandas as pd\n",
    "import matplotlib.pyplot as plt"
   ]
  },
  {
   "cell_type": "markdown",
   "id": "500452d3-0ec2-4af5-8788-e281af3e57c4",
   "metadata": {},
   "source": [
    "### Import Environment Variables"
   ]
  },
  {
   "cell_type": "code",
   "execution_count": 6,
   "id": "c8ddd831-7372-48ca-84db-49bbdea4844b",
   "metadata": {},
   "outputs": [],
   "source": [
    "from envs.demo_env import demo_env_params as demo_env"
   ]
  },
  {
   "cell_type": "markdown",
   "id": "400c5f4b-b396-4d63-aa4b-51c076c2e0b1",
   "metadata": {},
   "source": [
    " ### Establish Session with Controller "
   ]
  },
  {
   "cell_type": "code",
   "execution_count": 7,
   "id": "0beedad0-b805-4a77-85d4-66b4a713e1f2",
   "metadata": {},
   "outputs": [],
   "source": [
    "# Establish a first session\n",
    "api = ApiSession(\n",
    "    controller_ip=demo_env['controller_ip'],\n",
    "    username=demo_env['controller_username'],\n",
    "    password=demo_env['controller_password'],\n",
    "    tenant=demo_env['tenant'],\n",
    "    api_version=demo_env['api_version']\n",
    "    )\n",
    "# Update headers and api version imported from demo env file with controller version (ensure actual API Version is uses in subsequent requests\n",
    "demo_env['headers']['X-Avi-Version'] = api.remote_api_version['Version']\n",
    "demo_env['api_version'] = api.remote_api_version['Version']\n",
    "\n",
    "# Create a new session with received AVI API Version\n",
    "api = ApiSession(\n",
    "    controller_ip=demo_env['controller_ip'],\n",
    "    username=demo_env['controller_username'],\n",
    "    password=demo_env['controller_password'],\n",
    "    tenant=demo_env['tenant'],\n",
    "    api_version=demo_env['api_version']\n",
    "    )"
   ]
  },
  {
   "cell_type": "markdown",
   "id": "51bd4a3e-af6d-4976-846a-f2a5da65fd34",
   "metadata": {},
   "source": [
    "### Verify controller connectivity by showing session ID "
   ]
  },
  {
   "cell_type": "code",
   "execution_count": 8,
   "id": "23261866-ce52-4ecc-abda-2d25cdfcb1fe",
   "metadata": {},
   "outputs": [
    {
     "name": "stdout",
     "output_type": "stream",
     "text": [
      "Successful connection to avicontroller. Session ID:bpguo8dpd1ujqgyhwa6z2qj57zzg7l4c\n"
     ]
    }
   ],
   "source": [
    "print('Successful connection to ' + demo_env['name'] + '. Session ID:' + api.session_id)"
   ]
  },
  {
   "cell_type": "markdown",
   "id": "47c1b9dc-30ea-4f13-a818-eaab3233216a",
   "metadata": {},
   "source": [
    "### Get Cloud and SE_Group References"
   ]
  },
  {
   "cell_type": "code",
   "execution_count": 9,
   "id": "16ce2c28-010b-4afe-8929-a55581d60018",
   "metadata": {},
   "outputs": [
    {
     "name": "stdout",
     "output_type": "stream",
     "text": [
      "The cloud reference is https://172.25.11.6/api/cloud/cloud-ec9cf668-9f95-43e3-ac2c-243e0617eeaf\n"
     ]
    }
   ],
   "source": [
    "# Get cloud uuid (cloud = connector with any infra environment such as vcenter, nsx-t, aws, gcp... etc)\n",
    "cloud = api.get_object_by_name('cloud', demo_env['cloud'])\n",
    "cloud_ref = api.get_obj_ref(cloud)\n",
    "print('The cloud reference is ' + cloud_ref)"
   ]
  },
  {
   "cell_type": "code",
   "execution_count": 10,
   "id": "029b6d6a-ec0f-4ba7-a09c-7e684e11bdd8",
   "metadata": {},
   "outputs": [
    {
     "name": "stdout",
     "output_type": "stream",
     "text": [
      "The se_group reference is https://172.25.11.6/api/serviceenginegroup/serviceenginegroup-8b907faf-bf91-43f5-b0aa-97f3f41be154\n"
     ]
    }
   ],
   "source": [
    "# Get se_group_ref  (Service Engine Group defines a common set of policies (size, HA scheme, etc) for a given set of Service Engines\n",
    "se_group = api.get_object_by_name('serviceenginegroup', demo_env['service_engine_group'])\n",
    "se_group_ref = api.get_obj_ref(se_group)\n",
    "print('The se_group reference is ' +se_group_ref)"
   ]
  },
  {
   "cell_type": "markdown",
   "id": "99b5b2fd-8297-4758-8607-ff97b4f5a197",
   "metadata": {},
   "source": [
    "## Define Virtual_Service Configuration Parameters"
   ]
  },
  {
   "cell_type": "code",
   "execution_count": 11,
   "id": "fb95ef33-61fc-4e12-b818-3be8f6f8e81d",
   "metadata": {},
   "outputs": [],
   "source": [
    "vs = {\n",
    "    'vsvip_ip': \"10.151.80.88\",\n",
    "    'name': \"API\",\n",
    "    'port': \"6443\",\n",
    "    'tier1_lr': \"T1-DATA\",\n",
    "    'network_name': \"AVI-DATA-OVERLAY-10.121.100.0\",\n",
    "    'servers': [{\n",
    "        \"server1\": {\n",
    "            \"addr\": \"10.121.100.150\",\n",
    "            \"name\": \"member_001\",\n",
    "            \"port\": \"80\"\n",
    "            },\n",
    "        \"server2\": {\n",
    "            \"addr\": \"10.121.100.151\",\n",
    "            \"name\": \"member_002\",\n",
    "            \"port\": \"80\"\n",
    "            },\n",
    "        \"server3\": {\n",
    "            \"addr\": \"10.121.100.152\",\n",
    "            \"name\": \"member_003\",\n",
    "            \"port\": \"80\"\n",
    "            }\n",
    "    }]       \n",
    "}"
   ]
  },
  {
   "cell_type": "markdown",
   "id": "999e5360-0a82-4f38-bc61-9284aa1dba72",
   "metadata": {},
   "source": [
    "### Create Pool"
   ]
  },
  {
   "cell_type": "code",
   "execution_count": 12,
   "id": "307be059-6487-4557-bc52-1f3351924b4f",
   "metadata": {},
   "outputs": [],
   "source": [
    "# Create Pool Object\n",
    "pool_obj = {\n",
    "    \"lb_algorithm\": 'LB_ALGORITHM_LEAST_CONNECTIONS',\n",
    "    \"default_server_port\": vs['port'],\n",
    "    \"name\": \"pool-\"+vs['name'],\n",
    "    \"cloud_ref\": cloud_ref,\n",
    "    \"servers\": [{\n",
    "                'hostname': vs['servers'][0]['server1']['name'],\n",
    "                'ip': {\n",
    "                     'addr': vs['servers'][0]['server1']['addr'], \n",
    "                     'type': 'V4'\n",
    "                      },\n",
    "                'port': vs['servers'][0]['server1']['port']\n",
    "                },\n",
    "                {\n",
    "                'hostname': vs['servers'][0]['server2']['name'],\n",
    "                'ip': {\n",
    "                     'addr': vs['servers'][0]['server2']['addr'], \n",
    "                     'type': 'V4'\n",
    "                      },\n",
    "                'port': vs['servers'][0]['server2']['port']\n",
    "                },\n",
    "                {\n",
    "                'hostname': vs['servers'][0]['server3']['name'],\n",
    "                'ip': {\n",
    "                     'addr': vs['servers'][0]['server3']['addr'], \n",
    "                     'type': 'V4'\n",
    "                      },\n",
    "                'port': vs['servers'][0]['server3']['port']\n",
    "                }\n",
    "        ],\n",
    "        \"health_monitor_refs\": ['/api/healthmonitor?name=System-TCP'],\n",
    "        \"tier1_lr\": \"/infra/tier-1s/\"+vs['tier1_lr']\n",
    "        }"
   ]
  },
  {
   "cell_type": "code",
   "execution_count": 13,
   "id": "b75ca94f",
   "metadata": {},
   "outputs": [
    {
     "data": {
      "text/plain": [
       "{'lb_algorithm': 'LB_ALGORITHM_LEAST_CONNECTIONS',\n",
       " 'default_server_port': '6443',\n",
       " 'name': 'pool-API',\n",
       " 'cloud_ref': 'https://172.25.11.6/api/cloud/cloud-ec9cf668-9f95-43e3-ac2c-243e0617eeaf',\n",
       " 'servers': [{'hostname': 'member_001',\n",
       "   'ip': {'addr': '10.121.100.150', 'type': 'V4'},\n",
       "   'port': '80'},\n",
       "  {'hostname': 'member_002',\n",
       "   'ip': {'addr': '10.121.100.151', 'type': 'V4'},\n",
       "   'port': '80'},\n",
       "  {'hostname': 'member_003',\n",
       "   'ip': {'addr': '10.121.100.152', 'type': 'V4'},\n",
       "   'port': '80'}],\n",
       " 'health_monitor_refs': ['/api/healthmonitor?name=System-TCP'],\n",
       " 'tier1_lr': '/infra/tier-1s/T1-DATA'}"
      ]
     },
     "execution_count": 13,
     "metadata": {},
     "output_type": "execute_result"
    }
   ],
   "source": [
    "pool_obj"
   ]
  },
  {
   "cell_type": "code",
   "execution_count": 15,
   "id": "db2fa982-f85f-4a27-bb35-082d44e1a4fc",
   "metadata": {},
   "outputs": [
    {
     "name": "stdout",
     "output_type": "stream",
     "text": [
      "<Response [201]>\n",
      "- Pool pool-API CREATED\n"
     ]
    }
   ],
   "source": [
    "resp = api.post('pool', data=json.dumps(pool_obj))\n",
    "\n",
    "if resp.status_code in range(200, 299):\n",
    "    print(resp)\n",
    "    print('- Pool '+pool_obj['name'], resp.reason)#, resp.text)\n",
    "else:\n",
    "    print('Error in creating pool :%s' % resp.text)"
   ]
  },
  {
   "cell_type": "markdown",
   "id": "85027952-fc90-48d3-89e3-b522e0f63620",
   "metadata": {},
   "source": [
    "### Create VS_VIP (static allocation)"
   ]
  },
  {
   "cell_type": "code",
   "execution_count": 10,
   "id": "fda1544f-d0fd-488c-90be-6d58e58dd7e3",
   "metadata": {},
   "outputs": [],
   "source": [
    "#vsvip_obj = {\n",
    "#            'name': \"vsvip-\"+vs['name'],\n",
    "#            'vip': [{\n",
    "#                   'vip_id': '1',\n",
    "#                   'ip_address':{\n",
    "#                       'addr': vs['vsvip_ip'],\n",
    "#                       'type': 'V4'\n",
    "#                       }\n",
    "#                   }]\n",
    "#            }\n",
    "#resp = api.post('vsvip', data=json.dumps(vsvip_obj))\n",
    "#if resp.status_code in range(200, 299):\n",
    "#    print(resp)\n",
    "#    vsvip = api.get_object_by_name('vsvip', vsvip_obj['name'])\n",
    "#    allocated_IP = vsvip['vip'][0]['ip_address']['addr']\n",
    "#    print(\"The configured IP is: \"+allocated_IP)\n",
    "#else:\n",
    "#    print('Error in creating vsvip :%s' % resp.text)"
   ]
  },
  {
   "cell_type": "markdown",
   "id": "6c58756c-4e18-448f-83cc-2c7d76c531a4",
   "metadata": {},
   "source": [
    "### Create VS_VIP (autoallocate)"
   ]
  },
  {
   "cell_type": "code",
   "execution_count": 16,
   "id": "f580c805-b1e8-46f5-a8a5-4af3e11df8f0",
   "metadata": {},
   "outputs": [],
   "source": [
    "# Get placement network subnet\n",
    "network = api.get_object_by_name('network', vs['network_name'])\n",
    "\n",
    "# Extract subnet, mask and network_ref\n",
    "subnet = network['configured_subnets'][0]['prefix']['ip_addr']['addr']\n",
    "mask = network['configured_subnets'][0]['prefix']['mask']\n",
    "network_ref = network['url']+\"#\"+network['name']"
   ]
  },
  {
   "cell_type": "code",
   "execution_count": 17,
   "id": "27f9a30e-cd28-4fe2-a2f6-a89316f02039",
   "metadata": {},
   "outputs": [
    {
     "name": "stdout",
     "output_type": "stream",
     "text": [
      "Network Name is: AVI-DATA-OVERLAY-10.121.100.0\n",
      "Subnet is: 10.121.100.0\n",
      "Mask is: 24\n",
      "Network_ref is: https://172.25.11.6/api/network/network-e997654b-901c-42a7-9475-12e90d03f1a7#AVI-DATA-OVERLAY-10.121.100.0\n"
     ]
    }
   ],
   "source": [
    "# Print Extracted information\n",
    "print(\"Network Name is: \"+ network['name'])\n",
    "print(\"Subnet is: \"+subnet)\n",
    "print(\"Mask is: \"+str(mask))\n",
    "print(\"Network_ref is: \"+network_ref)"
   ]
  },
  {
   "cell_type": "code",
   "execution_count": 18,
   "id": "4d72b269-faf7-48a1-9a49-76951c18dea8",
   "metadata": {},
   "outputs": [],
   "source": [
    "vsvip_obj = {\n",
    "  \"cloud_ref\": cloud_ref,\n",
    "  \"vip\": [\n",
    "    {\n",
    "      \"enabled\": \"true\",\n",
    "      \"auto_allocate_ip\": \"true\",\n",
    "      \"auto_allocate_ip_type\": \"V4_ONLY\",\n",
    "      \"ipam_network_subnet\": {\n",
    "          \"network_ref\": network_ref,\n",
    "          \"subnet\": {\n",
    "            \"ip_addr\": {\n",
    "               \"addr\": subnet,\n",
    "               \"type\": \"V4\"\n",
    "            },\n",
    "            \"mask\": mask\n",
    "        }\n",
    "      },\n",
    "      \"vip_id\": 1\n",
    "    }\n",
    "  ],\n",
    "  \"name\": \"vsVip-\"+vs['name'],\n",
    "  \"tier1_lr\": \"/infra/tier-1s/\"+vs['tier1_lr']\n",
    "}"
   ]
  },
  {
   "cell_type": "code",
   "execution_count": 19,
   "id": "f7a34e41-47ee-466c-b46a-162e66b986e4",
   "metadata": {},
   "outputs": [
    {
     "name": "stdout",
     "output_type": "stream",
     "text": [
      "<Response [201]>\n",
      "The allocated IP is: 10.121.100.100\n"
     ]
    }
   ],
   "source": [
    "resp = api.post('vsvip', data=json.dumps(vsvip_obj))\n",
    "if resp.status_code in range(200, 299):\n",
    "    print(resp)\n",
    "    vsvip = api.get_object_by_name('vsvip', vsvip_obj['name'])\n",
    "    allocated_IP = vsvip['vip'][0]['ip_address']['addr']\n",
    "    print(\"The allocated IP is: \"+allocated_IP)\n",
    "else:\n",
    "    print('Error in creating vsvip :%s' % resp.text)"
   ]
  },
  {
   "cell_type": "markdown",
   "id": "a4ef0207-80d9-408f-889d-f850f08e5176",
   "metadata": {},
   "source": [
    "### Create Virtual Service "
   ]
  },
  {
   "cell_type": "code",
   "execution_count": 20,
   "id": "b78fcce6-209a-44d5-aeef-d99b4dc724f4",
   "metadata": {},
   "outputs": [],
   "source": [
    "# Gather ref of created pool and VSVIP\n",
    "get_pool_obj = api.get_object_by_name('pool', pool_obj['name'])\n",
    "pool_ref = api.get_obj_ref(get_pool_obj)\n",
    "get_vsvip_obj = api.get_object_by_name('vsvip', vsvip_obj['name'])\n",
    "vsvip_ref = api.get_obj_ref(get_vsvip_obj)\n",
    "\n",
    "# Define services object\n",
    "services_obj = [{'port': vs['port'], 'enable_ssl': False}]\n",
    "\n",
    "# Define vs_obj\n",
    "vs_obj = {\n",
    "         'cloud_ref': cloud_ref,\n",
    "         'name': \"vs-\"+vs['name'],\n",
    "         'vsvip_ref': vsvip_ref,\n",
    "         'services': services_obj, \n",
    "         'pool_ref': pool_ref,\n",
    "         'se_group_ref': se_group_ref\n",
    "         }"
   ]
  },
  {
   "cell_type": "code",
   "execution_count": 21,
   "id": "d47fe3f4-ace5-42b6-8f2b-d2fcdca4a1fa",
   "metadata": {},
   "outputs": [
    {
     "name": "stdout",
     "output_type": "stream",
     "text": [
      "<Response [201]>\n",
      "- VirtualService vs-API CREATED\n"
     ]
    }
   ],
   "source": [
    "# Call AVI virtualservice API using post and the above json as body \n",
    "resp = api.post('virtualservice', data=json.dumps(vs_obj))\n",
    "if resp.status_code in range(200, 299):\n",
    "    print(resp)\n",
    "    print('- VirtualService '+vs_obj['name'], resp.reason)#, resp.text)\n",
    "else:\n",
    "    print('Error in creating vsvip :%s' % resp.text)"
   ]
  },
  {
   "cell_type": "markdown",
   "id": "7419a35d-f811-4074-b8a7-5b29f07fbbd8",
   "metadata": {},
   "source": [
    "## Modifications"
   ]
  },
  {
   "cell_type": "code",
   "execution_count": 85,
   "id": "daea4ca1-78bb-4993-b91b-3310f67923e6",
   "metadata": {},
   "outputs": [],
   "source": [
    "# Example, name change of existing virtual service\n",
    "vs_name = vs_obj['name']\n",
    "get_vs_obj = api.get_object_by_name('virtualservice', vs_name)"
   ]
  },
  {
   "cell_type": "code",
   "execution_count": 90,
   "id": "b8371f1a-dada-4053-b1df-4857c79ca78d",
   "metadata": {},
   "outputs": [
    {
     "data": {
      "text/plain": [
       "'vs-API-new'"
      ]
     },
     "execution_count": 90,
     "metadata": {},
     "output_type": "execute_result"
    }
   ],
   "source": [
    "# Display current name \n",
    "get_vs_obj['name']"
   ]
  },
  {
   "cell_type": "code",
   "execution_count": 88,
   "id": "5e230c64-056b-40f0-aa33-cf400b347976",
   "metadata": {},
   "outputs": [],
   "source": [
    "# Change name\n",
    "new_name = get_vs_obj['name']+\"-new\""
   ]
  },
  {
   "cell_type": "code",
   "execution_count": 89,
   "id": "3b5fba61-c2ee-46a3-9a42-20fa845ad735",
   "metadata": {},
   "outputs": [],
   "source": [
    "get_vs_obj['name']=new_name"
   ]
  },
  {
   "cell_type": "code",
   "execution_count": 91,
   "id": "a2b987ee-7e06-4bca-85ee-9814e5519a09",
   "metadata": {},
   "outputs": [],
   "source": [
    "resp = api.put('virtualservice', json.dumps(get_vs_obj))"
   ]
  },
  {
   "cell_type": "code",
   "execution_count": 94,
   "id": "d7d99fa1-6706-4358-ba22-293110b3bb0f",
   "metadata": {},
   "outputs": [
    {
     "data": {
      "text/plain": [
       "405"
      ]
     },
     "execution_count": 94,
     "metadata": {},
     "output_type": "execute_result"
    }
   ],
   "source": [
    "resp.status_code"
   ]
  },
  {
   "cell_type": "markdown",
   "id": "d136b691-89c2-43ce-9058-c091de835e0f",
   "metadata": {},
   "source": [
    "## Get metric of VSs"
   ]
  },
  {
   "cell_type": "code",
   "execution_count": 35,
   "id": "37bc1fbe-c27d-4c23-b89b-3663667bb526",
   "metadata": {},
   "outputs": [],
   "source": [
    "# VS_Metrics\n",
    "#metric_id='l4_client.avg_bandwidth'\n",
    "metric_id='l4_client.max_open_conns'\n",
    "entity_type='virtualservice'\n",
    "\n",
    "resp = api.get_object_by_name(entity_type, vs_obj['name'])\n",
    "uuid = api.get_obj_uuid(resp)\n",
    "path = 'analytics/metrics/%s/%s/?metric_id=%s&step=300&limit=10' % (entity_type, uuid, metric_id)\n",
    "resp = api.get(path)\n",
    "if resp.status_code in range(200, 299):\n",
    "    metrics_dict = json.loads(resp.text)\n",
    "    #logger.debug('%s', metrics_dict)\n",
    "    #print(json.dumps(metrics_dict, indent=2))\n",
    "else:\n",
    "    logger.debug('Error in getting %s metric for name : %s' % (entity_type, name))"
   ]
  },
  {
   "cell_type": "code",
   "execution_count": 36,
   "id": "5188b652-9c9f-4bd4-9ea9-cd30e43fec1e",
   "metadata": {},
   "outputs": [
    {
     "data": {
      "text/plain": [
       "Text(0.5, 1.0, 'Metrics')"
      ]
     },
     "execution_count": 36,
     "metadata": {},
     "output_type": "execute_result"
    },
    {
     "data": {
      "image/png": "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\n",
      "text/plain": [
       "<Figure size 640x480 with 1 Axes>"
      ]
     },
     "metadata": {},
     "output_type": "display_data"
    }
   ],
   "source": [
    "df = pd.read_json(json.dumps(metrics_dict['series'][0]['data']))\n",
    "df.plot(x=\"timestamp\", y=\"value\")\n",
    "plt.xlabel(\"Time\", size=10)\n",
    "plt.ylabel(metric_id, size=10)\n",
    "plt.title(\"Metrics\", size=20)"
   ]
  },
  {
   "cell_type": "markdown",
   "id": "31a25424-6d19-43ed-ba19-2a77b5acf833",
   "metadata": {},
   "source": [
    "## Get inventory of VSs"
   ]
  },
  {
   "cell_type": "code",
   "execution_count": 22,
   "id": "759fc18d-f806-44e2-bcf4-583ecfadce19",
   "metadata": {},
   "outputs": [],
   "source": [
    "inventory_type='virtualservice-inventory'\n",
    "entity_type='virtualservice'\n",
    "\n",
    "resp = api.get_object_by_name(entity_type, vs_obj['name'])\n",
    "uuid = api.get_obj_uuid(resp)\n",
    "\n",
    "params = {}\n",
    "params['page'] = 1\n",
    "params['page_size'] = 10\n",
    "inventory_path = inventory_type\n",
    "if uuid:\n",
    "    # this is case of inventory for a specific object\n",
    "    inventory_path = inventory_path + '/' + uuid\n",
    "resp = api.get(inventory_path, params=params)\n",
    "\n",
    "if resp.status_code in range(200, 299):\n",
    "    json.loads(resp.text)\n",
    "else:\n",
    "    'Error in getting inventory for %s, Error :%s' % (inventory_type, resp.text)"
   ]
  },
  {
   "cell_type": "code",
   "execution_count": 23,
   "id": "ddcd5c03-e36e-4114-9bb6-f07db707a461",
   "metadata": {},
   "outputs": [
    {
     "data": {
      "text/plain": [
       "{'config': {'name': 'vs-API',\n",
       "  'uuid': 'virtualservice-7d57db18-74bf-4c87-990b-fa7531a196c6',\n",
       "  'url': 'https://172.25.11.6/api/virtualservice/virtualservice-7d57db18-74bf-4c87-990b-fa7531a196c6',\n",
       "  'services': [{'enable_http2': False,\n",
       "    'enable_ssl': False,\n",
       "    'horizon_internal_ports': False,\n",
       "    'is_active_ftp_data_port': False,\n",
       "    'port': 6443,\n",
       "    'port_range_end': 6443}],\n",
       "  'pool_ref': 'https://172.25.11.6/api/pool/pool-f8a486c5-155a-4d6f-a306-3c913f8a6aa2',\n",
       "  'fqdn': '',\n",
       "  'type': 'VS_TYPE_NORMAL',\n",
       "  'vh_domain_name': '',\n",
       "  'tenant_ref': 'https://172.25.11.6/api/tenant/admin',\n",
       "  'cloud_ref': 'https://172.25.11.6/api/cloud/cloud-ec9cf668-9f95-43e3-ac2c-243e0617eeaf',\n",
       "  'se_group_ref': 'https://172.25.11.6/api/serviceenginegroup/serviceenginegroup-8b907faf-bf91-43f5-b0aa-97f3f41be154',\n",
       "  'vrf_context_ref': 'https://172.25.11.6/api/vrfcontext/vrfcontext-fd68ca4d-ef4c-434c-a3c1-28d5d9c19fb5',\n",
       "  'enabled': True,\n",
       "  'vsvip_ref': 'https://172.25.11.6/api/vsvip/vsvip-179a6456-7ecb-42c9-88cd-775185a92309',\n",
       "  'east_west_placement': False,\n",
       "  'dns_info': [],\n",
       "  'vip': [{'auto_allocate_floating_ip': False,\n",
       "    'auto_allocate_ip': True,\n",
       "    'auto_allocate_ip_type': 'V4_ONLY',\n",
       "    'avi_allocated_fip': False,\n",
       "    'avi_allocated_vip': False,\n",
       "    'enabled': True,\n",
       "    'ip_address': {'addr': '10.121.100.100', 'type': 'V4'},\n",
       "    'ipam_network_subnet': {'network_ref': 'https://172.25.11.6/api/network/network-e997654b-901c-42a7-9475-12e90d03f1a7',\n",
       "     'subnet': {'ip_addr': {'addr': '10.121.100.0', 'type': 'V4'},\n",
       "      'mask': 24}},\n",
       "    'prefix_length': 32,\n",
       "    'vip_id': '1'}]},\n",
       " 'runtime': {'oper_status': {'state': 'OPER_UP',\n",
       "   'last_changed_time': {'secs': 1686216785, 'usecs': 584652}},\n",
       "  'one_plus_one_ha': True,\n",
       "  'percent_ses_up': 100,\n",
       "  'vip_summary': [{'vip_id': '1',\n",
       "    'oper_status': {'state': 'OPER_UP',\n",
       "     'last_changed_time': {'secs': 1686216785, 'usecs': 584652}},\n",
       "    'service_engine': [{'uuid': 'se-005056b686d8',\n",
       "      'primary': True,\n",
       "      'standby': False,\n",
       "      'connected': True,\n",
       "      'mgmt_ip': {'addr': '10.121.50.11', 'type': 'V4'},\n",
       "      'active_on_cloud': True,\n",
       "      'active_on_se': True,\n",
       "      'url': 'https://172.25.11.6/api/serviceengine/se-005056b686d8'},\n",
       "     {'uuid': 'se-005056b60557',\n",
       "      'primary': False,\n",
       "      'standby': True,\n",
       "      'connected': True,\n",
       "      'mgmt_ip': {'addr': '10.121.50.10', 'type': 'V4'},\n",
       "      'active_on_cloud': False,\n",
       "      'active_on_se': True,\n",
       "      'url': 'https://172.25.11.6/api/serviceengine/se-005056b60557'}],\n",
       "    'num_se_requested': 2,\n",
       "    'num_se_assigned': 2,\n",
       "    'percent_ses_up': 100,\n",
       "    'auto_allocate_floating_ip': False,\n",
       "    'auto_allocate_ip': True,\n",
       "    'auto_allocate_ip_type': 'V4_ONLY',\n",
       "    'avi_allocated_fip': False,\n",
       "    'avi_allocated_vip': False,\n",
       "    'enabled': True,\n",
       "    'ip_address': {'addr': '10.121.100.100', 'type': 'V4'},\n",
       "    'ipam_network_subnet': {'network_ref': 'https://172.25.11.6/api/network/network-e997654b-901c-42a7-9475-12e90d03f1a7',\n",
       "     'subnet': {'ip_addr': {'addr': '10.121.100.0', 'type': 'V4'},\n",
       "      'mask': 24}},\n",
       "    'prefix_length': 32}]},\n",
       " 'uuid': 'virtualservice-7d57db18-74bf-4c87-990b-fa7531a196c6',\n",
       " 'health_score': {'health_score': 100.0,\n",
       "  'anomaly_penalty': 0.0,\n",
       "  'resources_penalty': 0.0,\n",
       "  'performance_score': 100.0,\n",
       "  'security_penalty': 0.0},\n",
       " 'alert': {'low': 0, 'medium': 0, 'high': 0},\n",
       " 'pools': ['/api/pool/pool-f8a486c5-155a-4d6f-a306-3c913f8a6aa2'],\n",
       " 'poolgroups': [],\n",
       " 'app_profile_type': 'APPLICATION_PROFILE_TYPE_HTTP',\n",
       " 'has_pool_with_realtime_metrics': False,\n",
       " 'metrics': {}}"
      ]
     },
     "execution_count": 23,
     "metadata": {},
     "output_type": "execute_result"
    }
   ],
   "source": [
    "json.loads(resp.text)"
   ]
  },
  {
   "cell_type": "code",
   "execution_count": 10,
   "id": "e45a2397-1b5a-4705-bc75-3f2d7fd06cc2",
   "metadata": {},
   "outputs": [],
   "source": [
    "vsvip_obj = {\n",
    "  \"cloud_ref\": \"/api/cloud?name=Default-Cloud\",\n",
    "  \"east_west_placement\": \"false\",\n",
    "  \"tenant\": \"admin\",\n",
    "  \"vip\": [{\n",
    "      \"enabled\": \"true\",\n",
    "      \"auto_allocate_floating_ip\": \"false\",\n",
    "      \"avi_allocated_fip\": \"false\",\n",
    "      \"auto_allocate_ip\": \"true\",\n",
    "      \"avi_allocated_vip\": \"false\",   \n",
    "      \"ip_address\": {\n",
    "          \"addr\": \"10.121.100.200\",\n",
    "          \"type\": \"V4\"\n",
    "            },\n",
    "      \"vip_id\": 1\n",
    "      }],\n",
    "  \"name\": \"test4444\",\n",
    "  \"vrf_context_ref\": \"/api/vrfcontext/?name=global\"\n",
    "}"
   ]
  },
  {
   "cell_type": "code",
   "execution_count": 11,
   "id": "c538c3fa",
   "metadata": {},
   "outputs": [
    {
     "name": "stdout",
     "output_type": "stream",
     "text": [
      "<Response [201]>\n",
      "The allocated IP is: 10.121.100.200\n"
     ]
    }
   ],
   "source": [
    "resp = api.post('vsvip', data=json.dumps(vsvip_obj))\n",
    "if resp.status_code in range(200, 299):\n",
    "    print(resp)\n",
    "    vsvip = api.get_object_by_name('vsvip', vsvip_obj['name'])\n",
    "    allocated_IP = vsvip['vip'][0]['ip_address']['addr']\n",
    "    print(\"The allocated IP is: \"+allocated_IP)\n",
    "else:\n",
    "    print('Error in creating vsvip :%s' % resp.text)"
   ]
  },
  {
   "cell_type": "code",
   "execution_count": null,
   "id": "498a7d89",
   "metadata": {},
   "outputs": [],
   "source": [
    "vsvip_obj = {\n",
    "            \"avi_deactivate_session_cache_as_fact\": false,\n",
    "            \"avi_patch_path\": null,\n",
    "            \"avi_patch_value\": null,\n",
    "            \"bgp_peer_labels\": null,\n",
    "            \"cloud_ref\": \"/api/cloud?name=Default-Cloud\",\n",
    "            \"configpb_attributes\": null,\n",
    "            \"controller\": \"172.25.11.6\",\n",
    "            \"dns_info\": null,\n",
    "            \"east_west_placement\": false,\n",
    "            \"ipam_selector\": null,\n",
    "            \"labels\": null,\n",
    "            \"markers\": null,\n",
    "            \"name\": \"vsvip-app1-Default-Cloud\",\n",
    "            \"password\": \"VALUE_SPECIFIED_IN_NO_LOG_PARAMETER\",\n",
    "            \"state\": \"present\",\n",
    "            \"tenant\": \"admin\",\n",
    "            \"tenant_ref\": \"/api/tenant/?name=admin\",\n",
    "            \"tenant_uuid\": \"\",\n",
    "            \"tier1_lr\": null,\n",
    "            \"url\": null,\n",
    "            \"use_standard_alb\": null,\n",
    "            \"username\": \"admin\",\n",
    "            \"uuid\": null,\n",
    "            \"vip\": [\n",
    "                {\n",
    "                    \"auto_allocate_floating_ip\": false,\n",
    "                    \"auto_allocate_ip\": false,\n",
    "                    \"avi_allocated_fip\": false,\n",
    "                    \"avi_allocated_vip\": false,\n",
    "                    \"enabled\": true,\n",
    "                    \"ip_address\": {\n",
    "                        \"addr\": \"10.121.100.200\",\n",
    "                        \"type\": \"V4\"\n",
    "                    },\n",
    "                    \"vip_id\": \"1\"\n",
    "                }\n",
    "            ],\n",
    "            \"vrf_context_ref\": \"/api/vrfcontext/?name=global\",\n",
    "            \"vsvip_cloud_config_cksum\": null\n",
    "        }\n",
    "    },\n",
    "    \"item\": {\n",
    "        \"cloud_ref\": \"/api/cloud?name=Default-Cloud\",\n",
    "        \"east_west_placement\": false,\n",
    "        \"name\": \"vsvip-app1-Default-Cloud\",\n",
    "        \"tenant\": \"admin\",\n",
    "        \"tenant_ref\": \"/api/tenant/?name=admin\",\n",
    "        \"vip\": [\n",
    "            {\n",
    "                \"auto_allocate_floating_ip\": false,\n",
    "                \"auto_allocate_ip\": false,\n",
    "                \"avi_allocated_fip\": false,\n",
    "                \"avi_allocated_vip\": false,\n",
    "                \"enabled\": true,\n",
    "                \"ip_address\": {\n",
    "                    \"addr\": \"10.121.100.200\",\n",
    "                    \"type\": \"V4\"\n",
    "                },\n",
    "                \"vip_id\": \"1\"\n",
    "            }\n",
    "        ],\n",
    "        \"vrf_context_ref\": \"/api/vrfcontext/?name=global\"\n",
    "    },"
   ]
  }
 ],
 "metadata": {
  "kernelspec": {
   "display_name": "Python 3 (ipykernel)",
   "language": "python",
   "name": "python3"
  },
  "language_info": {
   "codemirror_mode": {
    "name": "ipython",
    "version": 3
   },
   "file_extension": ".py",
   "mimetype": "text/x-python",
   "name": "python",
   "nbconvert_exporter": "python",
   "pygments_lexer": "ipython3",
   "version": "3.10.9"
  }
 },
 "nbformat": 4,
 "nbformat_minor": 5
}
